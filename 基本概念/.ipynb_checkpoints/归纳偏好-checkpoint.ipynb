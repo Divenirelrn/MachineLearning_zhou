{
 "cells": [
  {
   "cell_type": "markdown",
   "metadata": {},
   "source": [
    "一份数据集学习出多个模型，如何判定哪一个模型好？"
   ]
  },
  {
   "cell_type": "markdown",
   "metadata": {},
   "source": [
    "机器学习算法在学习过程中对某种类型假设的偏好，成为归纳偏好，简称“偏好”<br/>"
   ]
  },
  {
   "cell_type": "markdown",
   "metadata": {},
   "source": [
    "归纳偏好可看作学习算法自身在一个可能很庞大的假设空间中对假设进\n",
    "行选择的启发式或\"价值观\""
   ]
  },
  {
   "cell_type": "markdown",
   "metadata": {},
   "source": [
    "那么，有没有一般性的原则来引导算法确立\n",
    "\"正确的\"偏好呢? \"奥卡姆剃刀\" (Occam's razor) 是一种常用的、自然科学\n",
    "研究中最基本的原则，即\"若有多个假设与观察一致，则选最简单的那个"
   ]
  },
  {
   "cell_type": "markdown",
   "metadata": {},
   "source": [
    "<img src=\"1.jpg\" alt=\"\" width=\"100%\" height=\"100%\" align=\"center\" />"
   ]
  },
  {
   "cell_type": "markdown",
   "metadata": {},
   "source": [
    "假设学习算法 $L_a$ 基于某种归纳偏好产生了对应\n",
    "于曲线A的模型，学习算法 $L_b$基于另一种归纳偏好产生了对应于曲线B的模\n",
    "型.基于前面讨论的平滑曲线的某种\"描述简单性\"?我们满怀信心地期待算\n",
    "法$L_a$比$L_b$更好.确实，图1.4(a) 显示出与B相比，A与训练集外的样本更一\n",
    "致;换言之，A的泛化能力比B强."
   ]
  },
  {
   "cell_type": "markdown",
   "metadata": {},
   "source": [
    "但是，且慢!虽然我们希望并相信$L_a$比$L_b$更好，但会不会出现图1.4(b)\n",
    "情况:与A相比，B与训练集外的样本更一致?\n",
    "很遗憾，这种情况完全可能出现.换言之，对于一个学习算法$L_a$，若它在某\n",
    "些问题上比学习算法$L_b$好，则必然存在另一些问题，在那里$L_b$比$L_a$好.有趣\n",
    "的是，这个结论对任何算法均成立，哪怕是把本书后面将要介绍的一些聪明算\n",
    "法作为$L_a$而将\"随机胡猜\"这样的笨拙算法作为$L_b$.惊讶吗?让我们看看下\n",
    "面这个简短的讨论:"
   ]
  },
  {
   "cell_type": "markdown",
   "metadata": {},
   "source": [
    "<img src=\"2.jpg\" alt=\"\" width=\"100%\" height=\"100%\" align=\"center\" />"
   ]
  },
  {
   "cell_type": "markdown",
   "metadata": {},
   "source": [
    "所以， NFL 走理最重要的寓意?是让我们清楚地认识到，脱离具体问题，空\n",
    "泛地谈论\"什么学习算法更好\"毫无意义，因为若考虑所有潜在的问题，贝。所\n",
    "有学习算法都一样好.要谈论算法的相对优劣，必须要针对具体的学习问题;在\n",
    "某些问题上表现好的学习算法，在另一些问题上却可能不尽如人意，学习算法\n",
    "自身的归纳偏好与问题是否相配，往往会起到决定性的作用."
   ]
  },
  {
   "cell_type": "code",
   "execution_count": null,
   "metadata": {},
   "outputs": [],
   "source": []
  }
 ],
 "metadata": {
  "kernelspec": {
   "display_name": "Python 3",
   "language": "python",
   "name": "python3"
  },
  "language_info": {
   "codemirror_mode": {
    "name": "ipython",
    "version": 3
   },
   "file_extension": ".py",
   "mimetype": "text/x-python",
   "name": "python",
   "nbconvert_exporter": "python",
   "pygments_lexer": "ipython3",
   "version": "3.7.6"
  }
 },
 "nbformat": 4,
 "nbformat_minor": 4
}
