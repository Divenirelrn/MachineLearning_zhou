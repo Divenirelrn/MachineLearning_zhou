{
 "cells": [
  {
   "cell_type": "markdown",
   "metadata": {},
   "source": [
    "推理期：通用问题求解"
   ]
  },
  {
   "cell_type": "markdown",
   "metadata": {},
   "source": [
    "知识期：专家系统"
   ]
  },
  {
   "cell_type": "markdown",
   "metadata": {},
   "source": [
    "连接主义：感知机<br/>\n",
    "符号主义：概念学习"
   ]
  },
  {
   "cell_type": "markdown",
   "metadata": {},
   "source": [
    "从样例中学习<br/>\n",
    "符号主义学习：决策树、归纳逻辑程序设计（ILP）<br/>\n",
    "基于神经网络的连接主义学习"
   ]
  },
  {
   "cell_type": "markdown",
   "metadata": {},
   "source": [
    "统计学习：支持向量机"
   ]
  },
  {
   "cell_type": "markdown",
   "metadata": {},
   "source": [
    "连接主义：深度学习，大数据时代"
   ]
  },
  {
   "cell_type": "markdown",
   "metadata": {},
   "source": []
  }
 ],
 "metadata": {
  "kernelspec": {
   "display_name": "Python 3",
   "language": "python",
   "name": "python3"
  },
  "language_info": {
   "codemirror_mode": {
    "name": "ipython",
    "version": 3
   },
   "file_extension": ".py",
   "mimetype": "text/x-python",
   "name": "python",
   "nbconvert_exporter": "python",
   "pygments_lexer": "ipython3",
   "version": "3.7.6"
  }
 },
 "nbformat": 4,
 "nbformat_minor": 4
}
