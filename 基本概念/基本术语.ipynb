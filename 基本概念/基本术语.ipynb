{
 "cells": [
  {
   "cell_type": "markdown",
   "metadata": {},
   "source": [
    "数据集<br/>\n",
    "属性、特征、属性值、属性空间、样本空间、输入空间、特征向量、维数<br/>\n",
    "学习、训练、训练集<br/>\n",
    "假设、ground-thuth<br/>\n",
    "标签<br/>\n",
    "测试<br/>\n",
    "泛化能力<br/>\n",
    "归纳与演绎、假设空间、概念学习<br/>\n",
    "版本空间<br/>\n"
   ]
  }
 ],
 "metadata": {
  "kernelspec": {
   "display_name": "Python 3",
   "language": "python",
   "name": "python3"
  },
  "language_info": {
   "codemirror_mode": {
    "name": "ipython",
    "version": 3
   },
   "file_extension": ".py",
   "mimetype": "text/x-python",
   "name": "python",
   "nbconvert_exporter": "python",
   "pygments_lexer": "ipython3",
   "version": "3.7.6"
  }
 },
 "nbformat": 4,
 "nbformat_minor": 4
}
