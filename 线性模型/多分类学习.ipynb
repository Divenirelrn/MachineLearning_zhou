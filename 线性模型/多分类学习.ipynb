{
 "cells": [
  {
   "cell_type": "markdown",
   "metadata": {},
   "source": [
    "现实中常遇到多分类学习任务.有些二分类学习方法可直接推广到多分类，\n",
    "但在更多情形下，我们是基于-些基本策略，利用二分类学习器来解决多分类\n",
    "问题."
   ]
  },
  {
   "cell_type": "markdown",
   "metadata": {},
   "source": [
    "不失一般性，考虑N个类别$C_1,C_2,\\cdots,c_n$，多分类学习的基本思路是\n",
    "\"拆解法\",即将多分类任务拆为若干个二分类任务求解.具体来说，先对问题\n",
    "进行拆分，然后为拆出的每个二分类任务训练一个分类器;在测试时，对这些分\n",
    "类器的预测结果进行集成以获得最终的多分类结果.这里的关键是如何对多分\n",
    "类任务进行拆分，以及如何对多个分类器进行集成.本节主要介绍拆分策略."
   ]
  },
  {
   "cell_type": "markdown",
   "metadata": {},
   "source": [
    "最经典的拆分策略有三种. \"一对一\" (One vs. One ，简称 OvO) \"一对\n",
    "其余\" (One vs. Rest ，简称 OvR) 和\"多对多\" (Many vs. Many，简称 MvM)."
   ]
  },
  {
   "cell_type": "markdown",
   "metadata": {},
   "source": [
    "OvO:<img src=\"20.jpg\" alt=\"\" width=\"100%\" height=\"100%\" align=\"center\" />"
   ]
  },
  {
   "cell_type": "markdown",
   "metadata": {},
   "source": [
    "<img src=\"21.jpg\" alt=\"\" width=\"100%\" height=\"100%\" align=\"center\" />"
   ]
  },
  {
   "cell_type": "markdown",
   "metadata": {},
   "source": [
    "OvR:OvR 则是每次将一个类的样例作为正例、所有其他类的样例作为反例来\n",
    "训练 个分类器.在测试时若仅有一个分类器预测为正类，则对应的类别标记\n",
    "作为最终分类结果，如图 3.4 所示.若有多个分类器预测为正类 则通常考虑各分类器的预测置信度，选择置信度最大的类别标记作为分类结果."
   ]
  },
  {
   "cell_type": "markdown",
   "metadata": {},
   "source": [
    "比较：\n",
    "<img src=\"22.jpg\" alt=\"\" width=\"100%\" height=\"100%\" align=\"center\" />"
   ]
  },
  {
   "cell_type": "markdown",
   "metadata": {},
   "source": [
    "$MvM$： <img src=\"23.jpg\" alt=\"\" width=\"100%\" height=\"100%\" align=\"center\" />"
   ]
  },
  {
   "cell_type": "markdown",
   "metadata": {},
   "source": [
    "$ECOC$：<img src=\"24.jpg\" alt=\"\" width=\"100%\" height=\"100%\" align=\"center\" />"
   ]
  },
  {
   "cell_type": "markdown",
   "metadata": {},
   "source": [
    " <img src=\"25.jpg\" alt=\"\" width=\"100%\" height=\"100%\" align=\"center\" />"
   ]
  },
  {
   "cell_type": "markdown",
   "metadata": {},
   "source": [
    "欧式距离：\n",
    "<img src=\"26.jpg\" alt=\"\" width=\"100%\" height=\"100%\" align=\"center\" />"
   ]
  },
  {
   "cell_type": "markdown",
   "metadata": {},
   "source": [
    "汉明距离：\n",
    "<img src=\"27.jpg\" alt=\"\" width=\"100%\" height=\"100%\" align=\"center\" />"
   ]
  },
  {
   "cell_type": "markdown",
   "metadata": {},
   "source": [
    "如：<img src=\"28.jpg\" alt=\"\" width=\"50%\" height=\"50%\" align=\"center\" />"
   ]
  },
  {
   "cell_type": "code",
   "execution_count": null,
   "metadata": {},
   "outputs": [],
   "source": []
  }
 ],
 "metadata": {
  "kernelspec": {
   "display_name": "Python 3",
   "language": "python",
   "name": "python3"
  },
  "language_info": {
   "codemirror_mode": {
    "name": "ipython",
    "version": 3
   },
   "file_extension": ".py",
   "mimetype": "text/x-python",
   "name": "python",
   "nbconvert_exporter": "python",
   "pygments_lexer": "ipython3",
   "version": "3.7.6"
  }
 },
 "nbformat": 4,
 "nbformat_minor": 4
}
