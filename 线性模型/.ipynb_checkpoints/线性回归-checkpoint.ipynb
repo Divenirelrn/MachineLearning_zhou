{
 "cells": [
  {
   "cell_type": "markdown",
   "metadata": {},
   "source": [
    "给定数据集 = $D={(x_1,y_1),(x_2,y_2),\\cdots,(x_m,y_m)},其中x_i=(x_{i1};x_{i2};\\cdots;x_{id}), y_i \\in R$。 \"线性回归\" (linear regression) 试图学得一个线性模\n",
    "型以尽可能准确地预测实值输出标记."
   ]
  },
  {
   "cell_type": "markdown",
   "metadata": {},
   "source": [
    " <img src=\"3.jpg\" alt=\"\" width=\"100%\" height=\"100%\" align=\"center\" />"
   ]
  },
  {
   "cell_type": "markdown",
   "metadata": {},
   "source": [
    "线性回归试图学得：\n",
    "<img src=\"4.jpg\" alt=\"\" width=\"50%\" height=\"50%\" align=\"center\" />"
   ]
  },
  {
   "cell_type": "markdown",
   "metadata": {},
   "source": [
    "如何确定$\\omega与b$呢?显然，关键在于如何衡量 f(x) 与y之间的差别。2.3节\n",
    "介绍过，均方误差 (2.2) 是回归任务中最常用的性能度量，因此我们可试图让均\n",
    "方误差最小化，即：\n",
    "<img src=\"5.jpg\" alt=\"\" width=\"50%\" height=\"50%\" align=\"center\" />"
   ]
  },
  {
   "cell_type": "markdown",
   "metadata": {},
   "source": [
    "$最小二乘法$：均方误差有非常好的几何意义?它对应了常用的欧几里得距离或简称\"欧\n",
    "氏距离\" (Euclidean distance). 基于均方误差最小化来进行模型求解的方法称\n",
    "为\"最小二乘法\" (least squ method). 在线性回归中，最小二乘法就是试图\n",
    "找到一条直线，使所有样本到直线上的欧氏距离之和最小."
   ]
  },
  {
   "cell_type": "markdown",
   "metadata": {},
   "source": [
    "<img src=\"6.jpg\" alt=\"\" width=\"100%\" height=\"100%\" align=\"center\" />"
   ]
  },
  {
   "cell_type": "markdown",
   "metadata": {},
   "source": [
    "多元线性回归：\n",
    "<img src=\"7.jpg\" alt=\"\" width=\"100%\" height=\"100%\" align=\"center\" />"
   ]
  },
  {
   "cell_type": "markdown",
   "metadata": {},
   "source": [
    "<img src=\"8.jpg\" alt=\"\" width=\"100%\" height=\"100%\" align=\"center\" />"
   ]
  },
  {
   "cell_type": "markdown",
   "metadata": {},
   "source": [
    "<img src=\"9.jpg\" alt=\"\" width=\"100%\" height=\"100%\" align=\"center\" />"
   ]
  },
  {
   "cell_type": "markdown",
   "metadata": {},
   "source": [
    "对数线性回归：\n",
    "<img src=\"10.jpg\" alt=\"\" width=\"100%\" height=\"100%\" align=\"center\" />"
   ]
  },
  {
   "cell_type": "markdown",
   "metadata": {},
   "source": [
    "广义线性回归：\n",
    "<img src=\"11.jpg\" alt=\"\" width=\"100%\" height=\"100%\" align=\"center\" />"
   ]
  },
  {
   "cell_type": "code",
   "execution_count": null,
   "metadata": {},
   "outputs": [],
   "source": []
  }
 ],
 "metadata": {
  "kernelspec": {
   "display_name": "Python 3",
   "language": "python",
   "name": "python3"
  },
  "language_info": {
   "codemirror_mode": {
    "name": "ipython",
    "version": 3
   },
   "file_extension": ".py",
   "mimetype": "text/x-python",
   "name": "python",
   "nbconvert_exporter": "python",
   "pygments_lexer": "ipython3",
   "version": "3.7.6"
  }
 },
 "nbformat": 4,
 "nbformat_minor": 4
}
