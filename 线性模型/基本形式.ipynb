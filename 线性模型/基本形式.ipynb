{
 "cells": [
  {
   "cell_type": "markdown",
   "metadata": {},
   "source": [
    "给定由d个属性描述的示例 $x=(x_1,x_2,\\cdots,x_d)$ 其中$x_i$是x在第i个属\n",
    "性上的取值，线性模型(linear model) 试图学得一个通过属性的线性组合来进行\n",
    "预测的函数，即"
   ]
  },
  {
   "cell_type": "markdown",
   "metadata": {},
   "source": [
    "<img src=\"1.jpg\" alt=\"\" width=\"50%\" height=\"50%\" align=\"center\" />"
   ]
  },
  {
   "cell_type": "markdown",
   "metadata": {},
   "source": [
    "一般用向量形式写成:\n",
    "<img src=\"2.jpg\" alt=\"\" width=\"30%\" height=\"30%\" align=\"center\" />\n",
    "其中$\\omega=(\\omega_1;\\omega_2;\\cdots;\\omega_d)$,$\\omega与b$ 学得之后，模型就得以确定."
   ]
  },
  {
   "cell_type": "markdown",
   "metadata": {},
   "source": [
    "线性模型形式简单、易于建模，但却蕴涵着机器学习中一些重要的基本思\n",
    "想.许多功能更为强大的非线性模型(nonlinear model) 可在线性模型的基础上\n",
    "通过引入层级结构或高维映射而得.此外，由于直观表达了各属性在预测中\n",
    "的重要性，因此线性模型有很好的可解释'性 (comprehensibility) .例如若在西瓜\n",
    "问题中学得 \"$f_{好瓜}(x)=0.2x_{色泽}+0.5x_{根蒂}+0.3x_{敲击声}+1$\" ，则意味着可\n",
    "通过综合考虑色泽、根蒂和敲声来判断瓜好不好，其中根蒂最要紧，而敲声比\n",
    "色泽更重要."
   ]
  },
  {
   "cell_type": "markdown",
   "metadata": {},
   "source": []
  }
 ],
 "metadata": {
  "kernelspec": {
   "display_name": "Python 3",
   "language": "python",
   "name": "python3"
  },
  "language_info": {
   "codemirror_mode": {
    "name": "ipython",
    "version": 3
   },
   "file_extension": ".py",
   "mimetype": "text/x-python",
   "name": "python",
   "nbconvert_exporter": "python",
   "pygments_lexer": "ipython3",
   "version": "3.7.6"
  }
 },
 "nbformat": 4,
 "nbformat_minor": 4
}
