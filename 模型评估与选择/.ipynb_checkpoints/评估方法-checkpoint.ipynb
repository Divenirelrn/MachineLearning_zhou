{
 "cells": [
  {
   "cell_type": "markdown",
   "metadata": {},
   "source": [
    "留出法：\n",
    "\"留出法\" (hold-out) 直接将数据集D划分为两个互斥的集合,其中一个\n",
    "集合作为训练集S，另一个作为测试集T,在S上训\n",
    "练出模型后，用D来评估其测试误差，作为对泛化误差的估计."
   ]
  },
  {
   "cell_type": "markdown",
   "metadata": {},
   "source": [
    "，训练/测试集的划分要尽可能保持数据分布的一致性，避免\n",
    "困数据划分过程引入额外的偏差而对最终结果产生影响。.如果从来样(sampling) 的角度来看待数据\n",
    "集的划分过程，则保留类别比例的采样方式通常称为\"分层采样\" (stratified\n",
    "sampling)."
   ]
  },
  {
   "cell_type": "markdown",
   "metadata": {},
   "source": [
    "常见做法是将大约 $2/3 $至 4/5\n",
    "样本用于训练，剩余样本用于测试."
   ]
  },
  {
   "cell_type": "markdown",
   "metadata": {},
   "source": [
    "交叉验证法（k折交叉验证法）：\"交叉验证法\" (cross alidation) 将数据D分为k个大小相似的\n",
    "互斥子集(每个子集\n",
    "尽可能保持数据分布的一致性，即从D通过分层采样得到. 然后，每次用\n",
    "k-1 子集的并集作为训练集，其余的那个子集作为测试集;这样就可获得\n",
    "k组训练测试集，从而可进行k次训练和测试?，最终返回的是k个测试结果\n",
    "的均值"
   ]
  },
  {
   "cell_type": "markdown",
   "metadata": {},
   "source": [
    "常见的k值有5、10、20等"
   ]
  },
  {
   "cell_type": "markdown",
   "metadata": {},
   "source": [
    "为减小因样本划分不同而引入的差别，k折交叉验证通常要随机使用不同的划分\n",
    "重复p次，最终的评估结果是这k折交叉验证结果的均值，例如常见的有\n",
    "\"10次10折交叉验证\""
   ]
  },
  {
   "cell_type": "markdown",
   "metadata": {},
   "source": [
    "假定数据集D中包含m个样本，若令k=m，则得到了交叉验证法的一\n",
    "个特例:留一法(Leave- On -Out，简称 LOO) "
   ]
  },
  {
   "cell_type": "markdown",
   "metadata": {},
   "source": [
    "自助法：\"自助法\" (bootstrapping) 是一个比较好的解决方案，它直接以自助采样\n",
    "(bootstrap sampling) 为基础。给定包含m个样\n",
    "本的数据集 我们对它进行采样产生数据集 D': 每次随机从D中挑选一个\n",
    "样本，将其拷贝放入 D' 然后再将该样本放回初始数据集D中，使得该样本在\n",
    "下次采样时仍有可能被采到;这个过程重复执行m次后，我们就得到了包含\n",
    "m个样本的数据集 D'，这就是自助采样的结果。"
   ]
  },
  {
   "cell_type": "markdown",
   "metadata": {},
   "source": [
    "于是我们可将 D' 用作训练集， D\\D' 用作测试集;这样实际评估的模型与\n",
    "期望评估的模型都使用m个训练样本，而我们仍有数据总量约 1/3 的、没在训\n",
    "练集中出现的样本用于测试.这样的测试结果，亦称\"包外估计\" (out-of-bag\n",
    "estimate). "
   ]
  },
  {
   "cell_type": "code",
   "execution_count": null,
   "metadata": {},
   "outputs": [],
   "source": []
  }
 ],
 "metadata": {
  "kernelspec": {
   "display_name": "Python 3",
   "language": "python",
   "name": "python3"
  },
  "language_info": {
   "codemirror_mode": {
    "name": "ipython",
    "version": 3
   },
   "file_extension": ".py",
   "mimetype": "text/x-python",
   "name": "python",
   "nbconvert_exporter": "python",
   "pygments_lexer": "ipython3",
   "version": "3.7.6"
  }
 },
 "nbformat": 4,
 "nbformat_minor": 4
}
