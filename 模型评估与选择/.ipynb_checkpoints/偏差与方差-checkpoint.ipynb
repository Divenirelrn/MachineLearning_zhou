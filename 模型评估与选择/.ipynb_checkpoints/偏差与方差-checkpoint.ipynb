{
 "cells": [
  {
   "cell_type": "markdown",
   "metadata": {},
   "source": [
    "对学习算法除了通过实验估计其泛化性能?人们往往还希望了解它\"为什\n",
    "么\"具有这样的性能\"偏差方差分解\" (bias-variance decomposition) 是解\n",
    "释学习算法泛化性能的一种重要工具."
   ]
  },
  {
   "cell_type": "markdown",
   "metadata": {},
   "source": [
    "偏差方差分解试图对学习算法的期望泛化错误率进行拆解.我们知道，算\n",
    "法在不同训练集上学得的结果很可能不同，即便这些训练集是来自同一个分布.\n",
    "对测试样本队令$y_D$为x在数据集中的标记，y为x的真实标记 ,f(x; D) 为训\n",
    "练集D上学得模型f在x上的预测输出.以回归任务为例，学习算法的期望预测为：\n",
    "<img src=\"32.jpg\" alt=\"\" width=\"50%\" height=\"50%\" align=\"center\" />"
   ]
  },
  {
   "cell_type": "markdown",
   "metadata": {},
   "source": [
    "使用样本数相同的不同训练集产生的方差为：\n",
    "<img src=\"33.jpg\" alt=\"\" width=\"50%\" height=\"50%\" align=\"center\" />"
   ]
  },
  {
   "cell_type": "markdown",
   "metadata": {},
   "source": [
    "噪声为：\n",
    "<img src=\"34.jpg\" alt=\"\" width=\"50%\" height=\"50%\" align=\"center\" />"
   ]
  },
  {
   "cell_type": "markdown",
   "metadata": {},
   "source": [
    "期望输出与真实标记的差别称为偏差(bias) ，即：\n",
    " <img src=\"35.jpg\" alt=\"\" width=\"50%\" height=\"50%\" align=\"center\" />"
   ]
  },
  {
   "cell_type": "markdown",
   "metadata": {},
   "source": [
    "为便于讨论，假定噪声期望为0，即 $E_D[y_D-y]=0$. 通过简单的多项式展开合\n",
    "井，可对算法的期望泛化误差进行分解:\n",
    "<img src=\"36.jpg\" alt=\"\" width=\"100%\" height=\"100%\" align=\"center\" />"
   ]
  },
  {
   "cell_type": "markdown",
   "metadata": {},
   "source": [
    "也就是说?泛化误差可分解为偏差、方差与噪声之和."
   ]
  },
  {
   "cell_type": "markdown",
   "metadata": {},
   "source": [
    "四顾偏差、方差、噪声的含义:偏差(2.40) 度量了学习算法的期望预测与真实结果的偏离程度，即刻画了学习算法本身的拟合能力;方差 (2.38) 度量了同样大小的训练集的变动所导致的学习性能的变化，即刻画了数据扰动所造成的\n",
    "影响;噪声(2.39) 则表达了在当前任务上任何学习算法所能达到的期望泛化误\n",
    "差的 界，即刻画了学习问题本身的难度.偏差一方差分解说明，泛化性能是由\n",
    "学习算法的能力、数据的充分性以及学习任务本身的难度所共同决定的.给定\n",
    "学习任务?为了取得好的泛化性能，则需使偏差较小，即能够充分拟合数据，并\n",
    "且使方差较小，即使得数据扰动产生的影响小."
   ]
  },
  {
   "cell_type": "markdown",
   "metadata": {},
   "source": [
    "一般来说，偏差与方差是有冲突的，这称为偏差一方差窘境(bias-variance\n",
    "dilemma). 图2.9 给出了一个示意图，给定学习任务，假定我们能控制学习算法\n",
    "的训练程度，则在训练不足时?学习器的拟合能力不够强，训练数据的扰动不足\n",
    "以便学习器产生显著变化，此时偏差主导了泛化错误率;随着训练程度的加深，\n",
    "学习器的拟合能力逐渐增强，训练数据发生的扰动渐渐能被学习器学到，方差\n",
    "逐渐主导了泛化错误率;在训练程度充足后，学习器的拟合能力已非常强，训练\n",
    "数据发生的轻微扰动都会导致学习器发生显著变化，若训练数据自身的、非全\n",
    "局的特性被学习器学到了，则将发生过拟合."
   ]
  },
  {
   "cell_type": "markdown",
   "metadata": {},
   "source": [
    "<img src=\"37.jpg\" alt=\"\" width=\"60%\" height=\"60%\" align=\"center\" />"
   ]
  },
  {
   "cell_type": "markdown",
   "metadata": {},
   "source": [
    "虽然偏差\n",
    "和方差确实反映了各类学习任务内在的误差决定因素，但式(2 .42) 这样优美的\n",
    "形式仅在基于均方误差的回归任务中得以推导出.对分类任务，由于 0/1 损失\n",
    "函数的跳变性，理论上推导出偏差方差分解很困难.己有多种方法可通过实\n",
    "验对偏差和方差进行估计"
   ]
  },
  {
   "cell_type": "code",
   "execution_count": null,
   "metadata": {},
   "outputs": [],
   "source": []
  }
 ],
 "metadata": {
  "kernelspec": {
   "display_name": "Python 3",
   "language": "python",
   "name": "python3"
  },
  "language_info": {
   "codemirror_mode": {
    "name": "ipython",
    "version": 3
   },
   "file_extension": ".py",
   "mimetype": "text/x-python",
   "name": "python",
   "nbconvert_exporter": "python",
   "pygments_lexer": "ipython3",
   "version": "3.7.6"
  }
 },
 "nbformat": 4,
 "nbformat_minor": 4
}
