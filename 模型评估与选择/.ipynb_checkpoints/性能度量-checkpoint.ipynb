{
 "cells": [
  {
   "cell_type": "markdown",
   "metadata": {},
   "source": [
    "在预测任务中，给定样例集 = {(X1 , Y1) , (X2, y2)， . . . , (Xm, Ym)}。 其中yi\n",
    "是示例 Xi 的真实标记.要评估学习器f的性能，就要把学习器预测结果 f(x)\n",
    "与真实标记y进行比较."
   ]
  },
  {
   "cell_type": "markdown",
   "metadata": {},
   "source": [
    "均方误差：\n",
    "<img src=\"3.jpg\" alt=\"\" width=\"60%\" height=\"60%\" align=\"center\" />"
   ]
  },
  {
   "cell_type": "markdown",
   "metadata": {},
   "source": [
    "分类：<br/>\n",
    "错误率：\n",
    "<img src=\"4.jpg\" alt=\"\" width=\"60%\" height=\"60%\" align=\"center\" />\n",
    "其中I()为指示函数"
   ]
  },
  {
   "cell_type": "markdown",
   "metadata": {},
   "source": [
    "精度：\n",
    "<img src=\"5.jpg\" alt=\"\" width=\"60%\" height=\"60%\" align=\"center\" />"
   ]
  },
  {
   "cell_type": "markdown",
   "metadata": {},
   "source": [
    "混淆矩阵：\n",
    "<img src=\"6.jpg\" alt=\"\" width=\"60%\" height=\"60%\" align=\"center\" />"
   ]
  },
  {
   "cell_type": "markdown",
   "metadata": {},
   "source": [
    "查准率与查全率：\n",
    "<img src=\"7.jpg\" alt=\"\" width=\"50%\" height=\"50%\" align=\"center\" />"
   ]
  },
  {
   "cell_type": "markdown",
   "metadata": {},
   "source": [
    "P-R曲线：\n",
    "<img src=\"8.jpg\" alt=\"\" width=\"60%\" height=\"60%\" align=\"center\" />"
   ]
  },
  {
   "cell_type": "markdown",
   "metadata": {},
   "source": [
    "若一个学习器的 P-R 曲线被另一个学习器的曲线完全\"包住\"，则可断言\n",
    "后者的性能优于前者， 如图A学习器的性能优于学习器 C; 如果两个\n",
    "学习器的P-R 曲线发生了交叉，例如图中的A与B，则难以断定\n",
    "两者孰优孰劣，只能在具体的查准率或查全率条件下进行比较。然而，在很多\n",
    "形下，人们往往仍希望把学习器比出个高低。这时一个比较合理的判据\n",
    "是比较 P-R 曲线下面积的大小，它在一定程度上表征了学习器在查准率和查全\n",
    "率上取得相对\"双高\"的比例.但这个值不太容易估算， 因此人们设计一些\n",
    "综合考虑查准率与查全率的性能度量。"
   ]
  },
  {
   "cell_type": "markdown",
   "metadata": {},
   "source": [
    "平衡点：\"平衡点 (Break-Event Point ，简称 BEP)就是这样一个度量，它是\"\n",
    "查准率= 查全率\"时的取值。如图 2.3 中C学习器的BEP=0.64，而基于BEP\n",
    "的比较，可认为学习器A优于B。"
   ]
  },
  {
   "cell_type": "markdown",
   "metadata": {},
   "source": [
    "F1度量：BEP 还是过于简化了些，更常用的是 F1 度量:\n",
    "<img src=\"9.jpg\" alt=\"\" width=\"50%\" height=\"50%\" align=\"center\" />"
   ]
  },
  {
   "cell_type": "markdown",
   "metadata": {},
   "source": [
    "$F_\\beta度量$：在一些应用中，对查准率和查全率的重视程度有所不同.例如在商品推荐\n",
    "系统中，为了尽可能少打扰用户，更希望推荐内容确是用户感兴趣的，此时查准\n",
    "率更重要;而在逃犯信息检索系统中，更希望尽可能少漏掉逃犯，此时查全率更\n",
    "重要 F1 度量的一般形式 --$F_\\beta$，能让我们表达出对查准率/查全率的不同偏\n",
    "好，它定义为：\n",
    "<img src=\"10.jpg\" alt=\"\" width=\"50%\" height=\"50%\" align=\"center\" />\n",
    "其中 ß>O 度量了查全率对查准率的相对重要性. ß = 1时退化为标准的 F1; ß> 1时查全率有更大影响 ß < 1时查准率有更大影响."
   ]
  },
  {
   "cell_type": "markdown",
   "metadata": {},
   "source": [
    "$宏查准率（macro-P）,宏查全率、宏F1$:先在各混淆矩阵上分别计算出查准率和查全率，\n",
    "记为 (Pl， R1) ，...， (Pn,Rn)， 再计算平均值，这样就得到\"宏查准\n",
    "率\" (macro-P)，\"宏查全率\" (macro-R) ，以及相应的\"宏F1\" (macro-F1):\n",
    "<img src=\"11.jpg\" alt=\"\" width=\"50%\" height=\"50%\" align=\"center\" />"
   ]
  },
  {
   "cell_type": "markdown",
   "metadata": {},
   "source": [
    "$微查准率（macro-P）,微查全率、微F1$：还可先将各混淆矩阵的对应元素进行平均，得到，TP FP TN FN\n",
    "平均值，再基于这些平均值计算出\"微查准\n",
    "\"(micro-P)、\"微查全率\" (micro-R) 和\"微F1\" (micro-F1):\n",
    "<img src=\"12.jpg\" alt=\"\" width=\"50%\" height=\"50%\" align=\"center\" />"
   ]
  },
  {
   "cell_type": "markdown",
   "metadata": {},
   "source": [
    "$ROC曲线与AUC$：很多学习器是为测试样本产生一个实值或概率预测，然后将这个预测值与\n",
    "一个分类阈值(threshold) 进行比较，若大于阈值则分为正类，否则为反类.例\n",
    "如，神经网络在一般情形下是对每个测试样本预测出一个 [0.0 ，1. 0] 之间的实值，\n",
    "然后将这个值与 0.5 进行比较，大于 0.5 则判为正例，否则为反例.这个实值或\n",
    "概率预测结果的好坏，直接决定了学习器的泛化能力.实际上根据这个实值或\n",
    "概率预测结果，我们可将测试样本进行排序，\"最可能\"是正例的排在最前面，\n",
    "\"最不可能\"是正例的排在最后面.这样，分类过程就相当于在这个排序中以\n",
    "某个\"截断点\" (cut point) 将样本分为两部分，前一部分判作正例，后一部分则\n",
    "判作反例."
   ]
  },
  {
   "cell_type": "markdown",
   "metadata": {},
   "source": [
    "在不同的应用任务中，我们可根据任务需求来采用不同的截断点，例如若\n",
    "我们更重视\"查准率\"，则可选择排序中靠前的位置进行截断;若更重视\"查\n",
    "全率\"，则可选择靠后的位置进行截断.因此，排序本身的质量好坏，体现了综\n",
    "合考虑学习器在不同任务下的\"期望泛化性能\"的好坏，或者说\"一般情况\n",
    "下\"泛化性能的好坏. ROC 曲线则是从这个角度出发来研究学习器泛化性能\n",
    "的有力工具."
   ]
  },
  {
   "cell_type": "markdown",
   "metadata": {},
   "source": [
    "ROC 全称是\"受试者工作特征\" (Receiver Operating Characteristic)曲线，根据学习器的预\n",
    "测结果对样例进行排序，按此顺序逐个把样本作为正例进行预测，每次计算\n",
    "出两个重要量的值，分别以它们为横、纵坐标作图'就得到了 \"ROC 曲线\n",
    "-R 曲线。使用查准率、查全率为纵、横轴不同， ROC 曲线的纵轴是\"真正\n",
    "例率\" (True Positive Rate ，简称 TPR) ，横轴是\"假正例率\" (False Positive\n",
    "Rate ，简称 FPR) ，基于表 2.1 中的符号，两者分别定义为：\n",
    "<img src=\"13.jpg\" alt=\"\" width=\"50%\" height=\"50%\" align=\"center\" />"
   ]
  },
  {
   "cell_type": "markdown",
   "metadata": {},
   "source": [
    "显示 ROC 曲线的图称为 \"ROC 图\"。图 a) 给出了一个示意图，显然\n",
    "对角线对应于 \"随机猜测\" 模型，而点(0,1)对应于将所有正例排在所有\n",
    "所有反例之前的\"理想模型\"。"
   ]
  },
  {
   "cell_type": "markdown",
   "metadata": {},
   "source": [
    "<img src=\"14.jpg\" alt=\"\" width=\"100%\" height=\"100%\" align=\"center\" />"
   ]
  },
  {
   "cell_type": "markdown",
   "metadata": {},
   "source": [
    "现实任务中通常是利用有限个测试样例来绘制 ROC ，此时仅能获得有\n",
    "限个(真正例率，假正例 )坐标对，无法产生图 2.4(a) 中的光滑ROC 曲线 ，只能\n",
    "绘制出如图 b)所示的近似 ROC 曲线.绘图过程很简单:给定 m+ 个正例和\n",
    "$m^-$个反例，根据学习器预测结果对样例进行排序，然后把分类阔值设为最大，\n",
    "即把所有样例均预测为反例，此时真正例率和假正例率均为0.在坐标(0,0)处\n",
    "标记一个点，然后，将分类阈值依次设为每个样例的预测值，即依次将每个样例\n",
    "划分为正例.设前一个标记点坐标为(x,y),当前若为真正例，则对应标记点的\n",
    "坐标为$(x,y+\\frac{1}{m^+})$;当前若为假正例，则对应标记点的坐标为$(x+\\frac{1}{m^-},y)$，然\n",
    "后用线段连接相邻点即可。"
   ]
  },
  {
   "cell_type": "markdown",
   "metadata": {},
   "source": [
    "进行学习器的比较时，与P-R 图相似，若一个学习器的 ROC 曲线被另一个学习器的曲线完全\"包住\"， 则可断言后者的性能优于前者;若两个学习\n",
    "器的ROC 曲线发生交叉，则难以一般性地断言两者孰优孰劣， 此时如果一定要进\n",
    "行比较，则较为合理的判据是 比较 ROC 线下 的面积，即 AUC(Area Under\n",
    "ROC Curve)"
   ]
  },
  {
   "cell_type": "markdown",
   "metadata": {},
   "source": [
    "从定义可知， AUC 通过对 ROC 线下各部分的面积求和而得。\n",
    "ROC 曲线是由坐标为 {(Xl yl), (X2, Y2) , . . . , (xm, Ym)} 的点按序连接而形成\n",
    "(Xl =0, xm = 1)，则 AUC 可估算为：\n",
    "<img src=\"15.jpg\" alt=\"\" width=\"50%\" height=\"50%\" align=\"center\" />"
   ]
  },
  {
   "cell_type": "markdown",
   "metadata": {},
   "source": [
    "形式化地看， AUC 考虑的是样本预测的排序质量，因此它与排序误差有紧\n",
    "密联系.给定$m^+$个正例和$m^-$个反例，令$D^+与D^-$分别表示正、反例集合，\n",
    "则排序\"损失\" (loss) 定义为：\n",
    "<img src=\"16.jpg\" alt=\"\" width=\"80%\" height=\"80%\" align=\"center\" />"
   ]
  },
  {
   "cell_type": "markdown",
   "metadata": {},
   "source": [
    "即考虑每一对正、反例，若正例的预测值小于反例，则记一个\"罚分\"，若相\n",
    "等，则记己 0.5 个\"罚分\"，容易看出$l_{rank}$对应的是 ROC 曲线之上的面积:若\n",
    "一个正例在 ROC 曲线上对应标记点的坐标为 (x,y),则x恰是排序在其之前的\n",
    "反例所占的比例，即假正例率.因此有\n",
    "<img src=\"17.jpg\" alt=\"\" width=\"30%\" height=\"30%\" align=\"center\" />"
   ]
  },
  {
   "cell_type": "markdown",
   "metadata": {},
   "source": [
    "$代价敏感错误率与代价曲线$：在现实任务中常会遇到这样的情况:不同类型的错误所造成的后果不同.\n",
    "例如在医疗诊断中，错误地把患者诊断为健康人与错误地把健康人诊断为患者，\n",
    "看起来都是犯了\"一次错误\"但后者的影响是增加了进→步检查的麻烦，前\n",
    "者的后果却可能是丧失了拯救生命的最佳时机;再如，门禁系统错误地把口\n",
    "行人员拦在门外，将使得用户体验不佳，但错误地把陌生人放进门内，则会造成\n",
    "严重的安全事故.为权衡不同类型错误所造成的不同损失，可为错误赋予\"非\n",
    "均等代价\" (unequal cost). "
   ]
  },
  {
   "cell_type": "markdown",
   "metadata": {},
   "source": [
    "以二分类任务为例，我们可根据任务的领域知识设定一个\"代价矩\n",
    "阵\" (cost matrix) ，如表 2.2 所示，其中$cost_{ij}$表示将第i类样本预测为第j类\n",
    "样本的代价.一般来说 $cost_{ii}$ = 0; 若将第0类判别为第1类所造成的损失更大，则$cost_{01}>cost_{10}$; 损失程度相差越大 cost01与cost lO 值的差别越大. "
   ]
  },
  {
   "cell_type": "markdown",
   "metadata": {},
   "source": [
    "<img src=\"18.jpg\" alt=\"\" width=\"50%\" height=\"50%\" align=\"center\" />"
   ]
  },
  {
   "cell_type": "markdown",
   "metadata": {},
   "source": [
    "回顾前面介绍的一些性能度量可看出，它们大都隐式地假设了均等代价，\n",
    "例如式(2 .4)所定义的错误率是直接计算\"错误次数\"，并没有考虑不同错误会\n",
    "造成不同的后果.在非均等代价下，我们所希望的不再是简单地最小化错误次\n",
    "数，而是希望最小化\"总体代价\" (total cost). 若将表 2.2 中的第0类作为正\n",
    "类、第1类作为反类，令$D^+与D^-$分别代表样例集D的正例子集和反例子\n",
    "集，则\"代价敏感\" (cost-sensitive) 错误率为:\n",
    "<img src=\"19.jpg\" alt=\"\" width=\"50%\" height=\"50%\" align=\"center\" />"
   ]
  },
  {
   "cell_type": "markdown",
   "metadata": {},
   "source": [
    "在非均等代价下， ROC 曲线不能直接反映出学习器的期望总体代价，而\n",
    "\"代价曲线\" (cost curve) 则可达到该目的.代价曲线图的横轴是取值为 [0 1]\n",
    "的正例概率代价:\n",
    "<img src=\"20.jpg\" alt=\"\" width=\"70%\" height=\"70%\" align=\"center\" />\n",
    "其中P是样例为正例的概率;纵轴是取值为 [0 1] 的归一化代价:\n",
    "<img src=\"21.jpg\" alt=\"\" width=\"70%\" height=\"70%\" align=\"center\" />"
   ]
  },
  {
   "cell_type": "markdown",
   "metadata": {},
   "source": [
    "其中 FPR 是式(2.19) 定义的假正例率， FNR = 1 - TPR 是假反例率.代价曲线\n",
    "的绘制很简单: ROC 曲线上每一点对应了代价平面上的一条线段，设ROC曲\n",
    "线上点的坐标为 (TPR，FPR) ，则可相应计算出 FNR，然后在代价平面上绘制\n",
    "一条从 (O,FPR)到 (l ,FNR) 的线段，线段下的面积即表示了该条件下的期望\n",
    "总体代价;如此将 ROC 曲线上的每个点转化为代价平面上的一条线段，然后\n",
    "取所有线段的下界，围成的自积即为在所有条件下学习器的期望总体代价，如\n",
    "2.5 所示."
   ]
  },
  {
   "cell_type": "markdown",
   "metadata": {},
   "source": [
    "<img src=\"22.jpg\" alt=\"\" width=\"70%\" height=\"70%\" align=\"center\" />"
   ]
  },
  {
   "cell_type": "code",
   "execution_count": null,
   "metadata": {},
   "outputs": [],
   "source": []
  }
 ],
 "metadata": {
  "kernelspec": {
   "display_name": "Python 3",
   "language": "python",
   "name": "python3"
  },
  "language_info": {
   "codemirror_mode": {
    "name": "ipython",
    "version": 3
   },
   "file_extension": ".py",
   "mimetype": "text/x-python",
   "name": "python",
   "nbconvert_exporter": "python",
   "pygments_lexer": "ipython3",
   "version": "3.7.6"
  }
 },
 "nbformat": 4,
 "nbformat_minor": 4
}
