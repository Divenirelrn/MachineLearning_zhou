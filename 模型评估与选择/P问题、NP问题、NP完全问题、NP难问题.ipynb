{
 "cells": [
  {
   "cell_type": "markdown",
   "metadata": {},
   "source": [
    "多项式：$ax^n + bx^{n-1} + c -1$<br/>\n",
    "x的最高次为n的多项式"
   ]
  },
  {
   "cell_type": "markdown",
   "metadata": {},
   "source": [
    "时间复杂度"
   ]
  },
  {
   "cell_type": "markdown",
   "metadata": {},
   "source": [
    "P类问题：有多项式时间算法的问题<br/>\n",
    "冒泡排序可以找到一种时间复杂度为$o(n^2)$的算法来求解，所以说排序问题是一个有多项式时间算法的问题<br/>\n",
    "类似于$o(e^n)的问题不是P类问题$"
   ]
  },
  {
   "cell_type": "markdown",
   "metadata": {},
   "source": [
    "NP（Nondeteministic polynominal,非确定性多项式）类问题：能在多项式时间内验证得出一个正确解的问题，即能在多项式时间内找到问题的一个解，却不知道是否存在一个多项式时间的通用解法"
   ]
  },
  {
   "cell_type": "markdown",
   "metadata": {},
   "source": [
    "NPC(NP complete)类问题：存在这样一个NP问题，所有的NP问题都可以约化成它<br/>\n",
    "满足的条件：<br/>\n",
    "自身是一个NP类问题<br/>\n",
    "所有的NP类问题都可以约化成它"
   ]
  },
  {
   "cell_type": "markdown",
   "metadata": {},
   "source": [
    "NP难问题：满足NPC条件的第二项但不一定满足第一项"
   ]
  },
  {
   "cell_type": "markdown",
   "metadata": {},
   "source": [
    "四者的关系：\n",
    "<img src=\"1.jpg\" alt=\"\" width=\"100%\" height=\"100%\" align=\"center\" />"
   ]
  },
  {
   "cell_type": "code",
   "execution_count": null,
   "metadata": {},
   "outputs": [],
   "source": []
  }
 ],
 "metadata": {
  "kernelspec": {
   "display_name": "Python 3",
   "language": "python",
   "name": "python3"
  },
  "language_info": {
   "codemirror_mode": {
    "name": "ipython",
    "version": 3
   },
   "file_extension": ".py",
   "mimetype": "text/x-python",
   "name": "python",
   "nbconvert_exporter": "python",
   "pygments_lexer": "ipython3",
   "version": "3.7.6"
  }
 },
 "nbformat": 4,
 "nbformat_minor": 4
}
