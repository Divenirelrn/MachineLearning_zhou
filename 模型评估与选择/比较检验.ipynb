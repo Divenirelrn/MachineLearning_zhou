{
 "cells": [
  {
   "cell_type": "markdown",
   "metadata": {},
   "source": [
    "实际上，机器学习中性能比较这件事要比大家想象的复杂得多.这\n",
    "里面涉及几个重要因素:首先，我们希望比较的是泛化性能，然而通过实验评估\n",
    "方法我们获得的是测试集上的性能，两者的对比结果可能未必相同;第二，测试\n",
    "集上的性能与测试集本身的选择有很大关系，且不论使用不同大小的测试集会\n",
    "得到不同的结果，即使用相同大小的测试集?若包含的测试样例不同，测试结果\n",
    "也会有不同;第二，很多机器学习算法本身有一定的随机性，即便用相同的参数\n",
    "设置在同一个测试集上多次运行，其结果也会有不同.那么，有没有适当的方法\n",
    "对学习器的性能进行比较呢?"
   ]
  },
  {
   "cell_type": "markdown",
   "metadata": {},
   "source": [
    "统计假设检验(hypothesis test) 为我们进行学习器性能比较提供了重要依\n",
    "据.基于假设检验结果我们可推断出，若在测试集上观察到学习器A比B好，则A\n",
    "的泛化性能是否在统计意义上优于B，以及这个结论的把握有多大.下面\n",
    "我们先介绍两种最基本的假设检验，然后介绍几种常用的机器学习性能比较方\n",
    "法.为便于讨论，本节默认以错误率为性能度量，用$\\epsilon$表示."
   ]
  },
  {
   "cell_type": "markdown",
   "metadata": {},
   "source": [
    "$假设检验$：假设检验中的\"假设\"是对学习器泛化错误率分布的某种判断或猜想，例\n",
    "$\\epsilon = \\epsilon_0$. 现实任务中我们并不知道学习器的泛化错误率，只能获知其测试错\n",
    "误率。泛化错误率与测试错误率未必相同，但直观上二者接近的可能性应比较大。相差很远的可能性比较小.因此 可根据测试错误率估推出泛化错误率的\n",
    "分布."
   ]
  },
  {
   "cell_type": "markdown",
   "metadata": {},
   "source": [
    "泛化错误率为$\\epsilon$的学习器在一个样本上犯错的概率是$\\epsilon$; 测试错误率$\\hat{\\epsilon}$意味\n",
    "着在m个测试样本中恰有$\\hat{\\epsilon}\\times m $个被误分类.假定测试样本是从样本总体分布\n",
    "中独立采样而得，那么泛化错误率为$\\epsilon$的学习器将其中$m'$个样本误分类\n",
    "、其余样本全部分类正确的概率是$\\epsilon^{m'}(1-\\epsilon)^{m-m'} $。由此可估算出其恰将$\\hat{\\epsilon}\\times m$个样本误分类的概率如下式所示，这也表达了在包含m个样本的测试集上， 泛化\n",
    "错误率为$\\epsilon$的学习器被测得测试错误率为$\\hat{\\epsilon}$的概率:"
   ]
  },
  {
   "cell_type": "markdown",
   "metadata": {},
   "source": [
    "<img src=\"23.jpg\" alt=\"\" width=\"50%\" height=\"50%\" align=\"center\" />"
   ]
  },
  {
   "cell_type": "markdown",
   "metadata": {},
   "source": [
    "<img src=\"24.jpg\" alt=\"\" width=\"100%\" height=\"100%\" align=\"center\" />"
   ]
  },
  {
   "cell_type": "markdown",
   "metadata": {},
   "source": [
    "<img src=\"25.jpg\" alt=\"\" width=\"100%\" height=\"100%\" align=\"center\" />"
   ]
  },
  {
   "cell_type": "markdown",
   "metadata": {},
   "source": [
    "$交叉验证t检验$：\n",
    "<img src=\"26.jpg\" alt=\"\" width=\"100%\" height=\"100%\" align=\"center\" />"
   ]
  },
  {
   "cell_type": "markdown",
   "metadata": {},
   "source": [
    "<img src=\"27.jpg\" alt=\"\" width=\"100%\" height=\"100%\" align=\"center\" />"
   ]
  },
  {
   "cell_type": "markdown",
   "metadata": {},
   "source": [
    "$McNemar检验$：<img src=\"28.jpg\" alt=\"\" width=\"100%\" height=\"100%\" align=\"center\" />"
   ]
  },
  {
   "cell_type": "markdown",
   "metadata": {},
   "source": [
    "$Friedman检验与Nemenyi后续检验$：<img src=\"29.jpg\" alt=\"\" width=\"100%\" height=\"100%\" align=\"center\" />"
   ]
  },
  {
   "cell_type": "markdown",
   "metadata": {},
   "source": [
    "<img src=\"30.jpg\" alt=\"\" width=\"100%\" height=\"100%\" align=\"center\" />"
   ]
  },
  {
   "cell_type": "markdown",
   "metadata": {},
   "source": [
    "<img src=\"31.jpg\" alt=\"\" width=\"100%\" height=\"100%\" align=\"center\" />"
   ]
  },
  {
   "cell_type": "code",
   "execution_count": null,
   "metadata": {},
   "outputs": [],
   "source": []
  }
 ],
 "metadata": {
  "kernelspec": {
   "display_name": "Python 3",
   "language": "python",
   "name": "python3"
  },
  "language_info": {
   "codemirror_mode": {
    "name": "ipython",
    "version": 3
   },
   "file_extension": ".py",
   "mimetype": "text/x-python",
   "name": "python",
   "nbconvert_exporter": "python",
   "pygments_lexer": "ipython3",
   "version": "3.7.6"
  }
 },
 "nbformat": 4,
 "nbformat_minor": 4
}
