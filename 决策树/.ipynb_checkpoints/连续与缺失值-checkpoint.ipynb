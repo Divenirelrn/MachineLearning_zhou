{
 "cells": [
  {
   "cell_type": "markdown",
   "metadata": {},
   "source": [
    "二分法：\n",
    "<img src=\"18.jpg\" alt=\"\" width=\"100%\" height=\"100%\" align=\"center\" />"
   ]
  },
  {
   "cell_type": "markdown",
   "metadata": {},
   "source": [
    "例子：\n",
    "<img src=\"19.jpg\" alt=\"\" width=\"100%\" height=\"100%\" align=\"center\" />\n",
    "<img src=\"20.jpg\" alt=\"\" width=\"100%\" height=\"100%\" align=\"center\" />"
   ]
  },
  {
   "cell_type": "markdown",
   "metadata": {},
   "source": [
    "缺失值处理：\n",
    "<img src=\"21.jpg\" alt=\"\" width=\"100%\" height=\"100%\" align=\"center\" />"
   ]
  },
  {
   "cell_type": "markdown",
   "metadata": {},
   "source": [
    "两个需要解决的问题：\n",
    "<img src=\"22.jpg\" alt=\"\" width=\"100%\" height=\"100%\" align=\"center\" />"
   ]
  },
  {
   "cell_type": "markdown",
   "metadata": {},
   "source": [
    "例子：\n",
    "<img src=\"23.jpg\" alt=\"\" width=\"100%\" height=\"100%\" align=\"center\" />\n",
    "<img src=\"24.jpg\" alt=\"\" width=\"100%\" height=\"100%\" align=\"center\" />\n",
    "<img src=\"25.jpg\" alt=\"\" width=\"100%\" height=\"100%\" align=\"center\" />"
   ]
  },
  {
   "cell_type": "code",
   "execution_count": null,
   "metadata": {},
   "outputs": [],
   "source": []
  }
 ],
 "metadata": {
  "kernelspec": {
   "display_name": "Python 3",
   "language": "python",
   "name": "python3"
  },
  "language_info": {
   "codemirror_mode": {
    "name": "ipython",
    "version": 3
   },
   "file_extension": ".py",
   "mimetype": "text/x-python",
   "name": "python",
   "nbconvert_exporter": "python",
   "pygments_lexer": "ipython3",
   "version": "3.7.6"
  }
 },
 "nbformat": 4,
 "nbformat_minor": 4
}
